{
  "nbformat": 4,
  "nbformat_minor": 0,
  "metadata": {
    "colab": {
      "name": "cnn training model.ipynb",
      "provenance": [],
      "mount_file_id": "1eI4I4tsKhOItWm8w1jZxlV-YU0bq8rFK",
      "authorship_tag": "ABX9TyNlh32jejXr26EUDsrAaaoZ",
      "include_colab_link": true
    },
    "kernelspec": {
      "name": "python3",
      "display_name": "Python 3"
    },
    "language_info": {
      "name": "python"
    },
    "accelerator": "GPU"
  },
  "cells": [
    {
      "cell_type": "markdown",
      "metadata": {
        "id": "view-in-github",
        "colab_type": "text"
      },
      "source": [
        "<a href=\"https://colab.research.google.com/github/alexkumar-nuub/labelme/blob/main/cnn_training_model.ipynb\" target=\"_parent\"><img src=\"https://colab.research.google.com/assets/colab-badge.svg\" alt=\"Open In Colab\"/></a>"
      ]
    },
    {
      "cell_type": "code",
      "execution_count": 1,
      "metadata": {
        "id": "8Z4cs9avrv7q"
      },
      "outputs": [],
      "source": [
        "#Load libraries\n",
        "import os\n",
        "import numpy as np\n",
        "import torch\n",
        "import glob\n",
        "import torch.nn as nn\n",
        "from torchvision.transforms import transforms\n",
        "from torch.utils.data import DataLoader\n",
        "from torch.optim import Adam\n",
        "from torch.autograd import Variable\n",
        "import torchvision\n",
        "import pathlib"
      ]
    },
    {
      "cell_type": "code",
      "source": [
        "#checking for device\n",
        "device=torch.device('cuda' if torch.cuda.is_available() else 'cpu')\n"
      ],
      "metadata": {
        "id": "EbGY5yN9tZxJ"
      },
      "execution_count": 2,
      "outputs": []
    },
    {
      "cell_type": "code",
      "source": [
        "print(device)"
      ],
      "metadata": {
        "colab": {
          "base_uri": "https://localhost:8080/"
        },
        "id": "dPxv_2GptcKW",
        "outputId": "67c56139-1d44-4a50-f377-af9eb74badbe"
      },
      "execution_count": 3,
      "outputs": [
        {
          "output_type": "stream",
          "name": "stdout",
          "text": [
            "cuda\n"
          ]
        }
      ]
    },
    {
      "cell_type": "code",
      "source": [
        "#Transforms\n",
        "transformer=transforms.Compose([\n",
        "    transforms.Resize((150,150)),\n",
        "    transforms.RandomHorizontalFlip(),\n",
        "    transforms.ToTensor(),  #0-255 to 0-1, numpy to tensors\n",
        "    transforms.Normalize([0.5,0.5,0.5], # 0-1 to [-1,1] , formula (x-mean)/std\n",
        "                        [0.5,0.5,0.5])\n",
        "])"
      ],
      "metadata": {
        "id": "kEg5aESGuVcS"
      },
      "execution_count": 4,
      "outputs": []
    },
    {
      "cell_type": "code",
      "source": [
        "#Dataloader\n",
        "\n",
        "#Path for training and testing directory\n",
        "train_path='/content/drive/MyDrive/DATASET/Data set/train'\n",
        "test_path='/content/drive/MyDrive/DATASET/Data set/test'\n",
        "\n",
        "train_loader=DataLoader(\n",
        "    torchvision.datasets.ImageFolder(train_path,transform=transformer),\n",
        "    batch_size=64, shuffle=True\n",
        ")\n",
        "test_loader=DataLoader(\n",
        "    torchvision.datasets.ImageFolder(test_path,transform=transformer),\n",
        "    batch_size=32, shuffle=True\n",
        ")\n"
      ],
      "metadata": {
        "id": "3VKPnxiiuaQA"
      },
      "execution_count": 5,
      "outputs": []
    },
    {
      "cell_type": "code",
      "source": [
        "#categories\n",
        "root=pathlib.Path(train_path)\n",
        "classes=sorted([j.name.split('/')[-1] for j in root.iterdir()])\n"
      ],
      "metadata": {
        "id": "hqi-fipAuuX9"
      },
      "execution_count": 6,
      "outputs": []
    },
    {
      "cell_type": "code",
      "source": [
        "print(classes)"
      ],
      "metadata": {
        "colab": {
          "base_uri": "https://localhost:8080/"
        },
        "id": "DlK4EDxAuzSE",
        "outputId": "bf617f40-0248-418d-fe30-a3ba38f57ac9"
      },
      "execution_count": 7,
      "outputs": [
        {
          "output_type": "stream",
          "name": "stdout",
          "text": [
            "['conical hat assam', 'polo assamese fisher gear', 'traditional agricultural tool']\n"
          ]
        }
      ]
    },
    {
      "cell_type": "code",
      "source": [
        "#CNN Network\n",
        "\n",
        "\n",
        "class ConvNet(nn.Module):\n",
        "    def __init__(self,num_classes=6):\n",
        "        super(ConvNet,self).__init__()\n",
        "        \n",
        "        #Output size after convolution filter\n",
        "        #((w-f+2P)/s) +1\n",
        "        \n",
        "        #Input shape= (256,3,150,150)\n",
        "        \n",
        "        self.conv1=nn.Conv2d(in_channels=3,out_channels=12,kernel_size=3,stride=1,padding=1)\n",
        "        #Shape= (256,12,150,150)\n",
        "        self.bn1=nn.BatchNorm2d(num_features=12)\n",
        "        #Shape= (256,12,150,150)\n",
        "        self.relu1=nn.ReLU()\n",
        "        #Shape= (256,12,150,150)\n",
        "        \n",
        "        self.pool=nn.MaxPool2d(kernel_size=2)\n",
        "        #Reduce the image size be factor 2\n",
        "        #Shape= (256,12,75,75)\n",
        "        \n",
        "        \n",
        "        self.conv2=nn.Conv2d(in_channels=12,out_channels=20,kernel_size=3,stride=1,padding=1)\n",
        "        #Shape= (256,20,75,75)\n",
        "        self.relu2=nn.ReLU()\n",
        "        #Shape= (256,20,75,75)\n",
        "        \n",
        "          \n",
        "        self.conv3=nn.Conv2d(in_channels=20,out_channels=32,kernel_size=3,stride=1,padding=1)\n",
        "        #Shape= (256,32,75,75)\n",
        "        self.bn3=nn.BatchNorm2d(num_features=32)\n",
        "        #Shape= (256,32,75,75)\n",
        "        self.relu3=nn.ReLU()\n",
        "        #Shape= (256,32,75,75)\n",
        "        \n",
        "        \n",
        "        self.fc=nn.Linear(in_features=75 * 75 * 32,out_features=num_classes)\n",
        "        \n",
        "          #Feed forwad function\n",
        "        \n",
        "    def forward(self,input):\n",
        "        output=self.conv1(input)\n",
        "        output=self.bn1(output)\n",
        "        output=self.relu1(output)\n",
        "            \n",
        "        output=self.pool(output)\n",
        "            \n",
        "        output=self.conv2(output)\n",
        "        output=self.relu2(output)\n",
        "            \n",
        "        output=self.conv3(output)\n",
        "        output=self.bn3(output)\n",
        "        output=self.relu3(output)\n",
        "            \n",
        "            \n",
        "            #Above output will be in matrix form, with shape (256,32,75,75)\n",
        "            \n",
        "        output=output.view(-1,32*75*75)\n",
        "            \n",
        "            \n",
        "        output=self.fc(output)\n",
        "            \n",
        "        return output\n",
        "            \n",
        "        "
      ],
      "metadata": {
        "id": "0qtf1Uwou37r"
      },
      "execution_count": 8,
      "outputs": []
    },
    {
      "cell_type": "code",
      "source": [
        "model=ConvNet(num_classes=6).to(device)\n"
      ],
      "metadata": {
        "id": "duAJ6TSUvR_A"
      },
      "execution_count": 9,
      "outputs": []
    },
    {
      "cell_type": "code",
      "source": [
        "# OPTIMISER AND and loss function\n",
        "optimizer=Adam(model.parameters(),lr=0.001,weight_decay=0.0001)\n",
        "loss_function=nn.CrossEntropyLoss()"
      ],
      "metadata": {
        "id": "DVlb2YS1vWHW"
      },
      "execution_count": 10,
      "outputs": []
    },
    {
      "cell_type": "code",
      "source": [
        "num_epochs=143"
      ],
      "metadata": {
        "id": "d6ekno1uvjzI"
      },
      "execution_count": 21,
      "outputs": []
    },
    {
      "cell_type": "code",
      "source": [
        "\n",
        "#calculating the size of training and testing images\n",
        "train_count=len(glob.glob(train_path+'/**/*.jpg'))\n",
        "test_count=len(glob.glob(test_path+'/**/*.jpg'))"
      ],
      "metadata": {
        "id": "bK67OzGAvq-R"
      },
      "execution_count": 22,
      "outputs": []
    },
    {
      "cell_type": "code",
      "source": [
        "\n",
        "print(train_count,test_count)\n"
      ],
      "metadata": {
        "colab": {
          "base_uri": "https://localhost:8080/"
        },
        "id": "ZXt9UBqTvu47",
        "outputId": "a37a044e-280d-4913-e0d1-7d36c18ef739"
      },
      "execution_count": 23,
      "outputs": [
        {
          "output_type": "stream",
          "name": "stdout",
          "text": [
            "21 21\n"
          ]
        }
      ]
    },
    {
      "cell_type": "code",
      "source": [
        "#Model training and saving best model\n",
        "\n",
        "best_accuracy=0.0\n",
        "\n",
        "for epoch in range(num_epochs):\n",
        "    \n",
        "    #Evaluation and training on training dataset\n",
        "    model.train()\n",
        "    train_accuracy=0.0\n",
        "    train_loss=0.0\n",
        "    \n",
        "    for i, (images,labels) in enumerate(train_loader):\n",
        "        if torch.cuda.is_available():\n",
        "            images=Variable(images.cuda())\n",
        "            labels=Variable(labels.cuda())\n",
        "            \n",
        "        optimizer.zero_grad()\n",
        "        \n",
        "        outputs=model(images)\n",
        "        loss=loss_function(outputs,labels)\n",
        "        loss.backward()\n",
        "        optimizer.step()\n",
        "        \n",
        "        \n",
        "        train_loss+= loss.cpu().data*images.size(0)\n",
        "        _,prediction=torch.max(outputs.data,1)\n",
        "        \n",
        "                train_accuracy+=int(torch.sum(prediction==labels.data))\n",
        "        \n",
        "    train_accuracy=train_accuracy/train_count\n",
        "    train_loss=train_loss/train_count\n",
        "    \n",
        "    \n",
        "    # Evaluation on testing dataset\n",
        "    model.eval()\n",
        "    \n",
        "    test_accuracy=0.0\n",
        "    for i, (images,labels) in enumerate(test_loader):\n",
        "        if torch.cuda.is_available():\n",
        "            images=Variable(images.cuda())\n",
        "            labels=Variable(labels.cuda())\n",
        "            \n",
        "        outputs=model(images)\n",
        "        _,prediction=torch.max(outputs.data,1)\n",
        "        test_accuracy+=int(torch.sum(prediction==labels.data))\n",
        "    \n",
        "    test_accuracy=test_accuracy/test_count\n",
        "    \n",
        "    \n",
        "    print('Epoch: '+str(epoch)+' Train Loss: '+str(train_loss)+' Train Accuracy: '+str(train_accuracy)+' Test Accuracy: '+str(test_accuracy))\n",
        "    \n",
        "    #Save the best model\n",
        "    if test_accuracy>best_accuracy:\n",
        "        torch.save(model.state_dict(),'best_checkpoint.model')\n",
        "        best_accuracy=test_accuracy\n",
        "    \n",
        "       \n"
      ],
      "metadata": {
        "colab": {
          "base_uri": "https://localhost:8080/",
          "height": 130
        },
        "id": "v5-32DMzv0Bh",
        "outputId": "afd43f65-488d-426f-e1d4-0544c2b72201"
      },
      "execution_count": 24,
      "outputs": [
        {
          "output_type": "error",
          "ename": "IndentationError",
          "evalue": "ignored",
          "traceback": [
            "\u001b[0;36m  File \u001b[0;32m\"<ipython-input-24-645b9f94274d>\"\u001b[0;36m, line \u001b[0;32m28\u001b[0m\n\u001b[0;31m    train_accuracy+=int(torch.sum(prediction==labels.data))\u001b[0m\n\u001b[0m    ^\u001b[0m\n\u001b[0;31mIndentationError\u001b[0m\u001b[0;31m:\u001b[0m unexpected indent\n"
          ]
        }
      ]
    },
    {
      "cell_type": "code",
      "source": [
        "#Model training and saving best model\n",
        "\n",
        "best_accuracy=0.0\n",
        "\n",
        "for epoch in range(num_epochs):\n",
        "    \n",
        "    #Evaluation and training on training dataset\n",
        "    model.train()\n",
        "    train_accuracy=0.0\n",
        "    train_loss=0.0\n",
        "    \n",
        "    for i, (images,labels) in enumerate(train_loader):\n",
        "        if torch.cuda.is_available():\n",
        "            images=Variable(images.cuda())\n",
        "            labels=Variable(labels.cuda())\n",
        "            \n",
        "        optimizer.zero_grad()\n",
        "        \n",
        "        outputs=model(images)\n",
        "        loss=loss_function(outputs,labels)\n",
        "        loss.backward()\n",
        "        optimizer.step()\n",
        "        \n",
        "        \n",
        "        train_loss+= loss.cpu().data*images.size(0)\n",
        "        _,prediction=torch.max(outputs.data,1)\n",
        "        \n",
        "        train_accuracy+=int(torch.sum(prediction==labels.data))\n",
        "        \n",
        "    train_accuracy=train_accuracy/train_count\n",
        "    train_loss=train_loss/train_count\n",
        "    \n",
        "    \n",
        "    # Evaluation on testing dataset\n",
        "    model.eval()\n",
        "    \n",
        "    test_accuracy=0.0\n",
        "    for i, (images,labels) in enumerate(test_loader):\n",
        "        if torch.cuda.is_available():\n",
        "            images=Variable(images.cuda())\n",
        "            labels=Variable(labels.cuda())\n",
        "            \n",
        "        outputs=model(images)\n",
        "        _,prediction=torch.max(outputs.data,1)\n",
        "        test_accuracy+=int(torch.sum(prediction==labels.data))\n",
        "    \n",
        "    test_accuracy=test_accuracy/test_count\n",
        "     \n",
        "    print('Epoch: '+str(epoch)+' Train Loss: '+str(train_loss)+' Train Accuracy: '+str(train_accuracy)+' Test Accuracy: '+str(test_accuracy))\n",
        "    \n",
        "    #Save the best model\n",
        "    if test_accuracy>best_accuracy:\n",
        "        torch.save(model.state_dict(),'best_checkpoint.model')\n",
        "        best_accuracy=test_accuracy\n",
        "    \n",
        "       "
      ],
      "metadata": {
        "colab": {
          "base_uri": "https://localhost:8080/"
        },
        "id": "9b1o9vuKwkcB",
        "outputId": "f85a617e-4120-427f-fcde-e529b164267a"
      },
      "execution_count": 25,
      "outputs": [
        {
          "output_type": "stream",
          "name": "stdout",
          "text": [
            "Epoch: 0 Train Loss: tensor(0.) Train Accuracy: 1.0 Test Accuracy: 0.5714285714285714\n",
            "Epoch: 1 Train Loss: tensor(0.) Train Accuracy: 1.0 Test Accuracy: 0.6190476190476191\n",
            "Epoch: 2 Train Loss: tensor(0.) Train Accuracy: 1.0 Test Accuracy: 0.6190476190476191\n",
            "Epoch: 3 Train Loss: tensor(0.) Train Accuracy: 1.0 Test Accuracy: 0.5714285714285714\n",
            "Epoch: 4 Train Loss: tensor(0.) Train Accuracy: 1.0 Test Accuracy: 0.6190476190476191\n",
            "Epoch: 5 Train Loss: tensor(0.) Train Accuracy: 1.0 Test Accuracy: 0.5714285714285714\n",
            "Epoch: 6 Train Loss: tensor(0.) Train Accuracy: 1.0 Test Accuracy: 0.5714285714285714\n",
            "Epoch: 7 Train Loss: tensor(0.) Train Accuracy: 1.0 Test Accuracy: 0.6190476190476191\n",
            "Epoch: 8 Train Loss: tensor(0.) Train Accuracy: 1.0 Test Accuracy: 0.5714285714285714\n",
            "Epoch: 9 Train Loss: tensor(0.) Train Accuracy: 1.0 Test Accuracy: 0.6190476190476191\n",
            "Epoch: 10 Train Loss: tensor(0.) Train Accuracy: 1.0 Test Accuracy: 0.6190476190476191\n",
            "Epoch: 11 Train Loss: tensor(0.) Train Accuracy: 1.0 Test Accuracy: 0.6190476190476191\n",
            "Epoch: 12 Train Loss: tensor(0.) Train Accuracy: 1.0 Test Accuracy: 0.5714285714285714\n",
            "Epoch: 13 Train Loss: tensor(0.) Train Accuracy: 1.0 Test Accuracy: 0.5714285714285714\n",
            "Epoch: 14 Train Loss: tensor(0.) Train Accuracy: 1.0 Test Accuracy: 0.6190476190476191\n",
            "Epoch: 15 Train Loss: tensor(0.) Train Accuracy: 1.0 Test Accuracy: 0.5714285714285714\n",
            "Epoch: 16 Train Loss: tensor(0.) Train Accuracy: 1.0 Test Accuracy: 0.6190476190476191\n",
            "Epoch: 17 Train Loss: tensor(0.) Train Accuracy: 1.0 Test Accuracy: 0.6190476190476191\n",
            "Epoch: 18 Train Loss: tensor(0.) Train Accuracy: 1.0 Test Accuracy: 0.5714285714285714\n",
            "Epoch: 19 Train Loss: tensor(0.) Train Accuracy: 1.0 Test Accuracy: 0.6190476190476191\n",
            "Epoch: 20 Train Loss: tensor(0.) Train Accuracy: 1.0 Test Accuracy: 0.6190476190476191\n",
            "Epoch: 21 Train Loss: tensor(0.) Train Accuracy: 1.0 Test Accuracy: 0.6190476190476191\n",
            "Epoch: 22 Train Loss: tensor(0.) Train Accuracy: 1.0 Test Accuracy: 0.5714285714285714\n",
            "Epoch: 23 Train Loss: tensor(0.) Train Accuracy: 1.0 Test Accuracy: 0.5714285714285714\n",
            "Epoch: 24 Train Loss: tensor(0.) Train Accuracy: 1.0 Test Accuracy: 0.5714285714285714\n",
            "Epoch: 25 Train Loss: tensor(0.) Train Accuracy: 1.0 Test Accuracy: 0.5714285714285714\n",
            "Epoch: 26 Train Loss: tensor(0.) Train Accuracy: 1.0 Test Accuracy: 0.5714285714285714\n",
            "Epoch: 27 Train Loss: tensor(0.) Train Accuracy: 1.0 Test Accuracy: 0.5714285714285714\n",
            "Epoch: 28 Train Loss: tensor(0.) Train Accuracy: 1.0 Test Accuracy: 0.5714285714285714\n",
            "Epoch: 29 Train Loss: tensor(0.) Train Accuracy: 1.0 Test Accuracy: 0.6190476190476191\n",
            "Epoch: 30 Train Loss: tensor(0.) Train Accuracy: 1.0 Test Accuracy: 0.5714285714285714\n",
            "Epoch: 31 Train Loss: tensor(0.) Train Accuracy: 1.0 Test Accuracy: 0.5714285714285714\n",
            "Epoch: 32 Train Loss: tensor(0.) Train Accuracy: 1.0 Test Accuracy: 0.6190476190476191\n",
            "Epoch: 33 Train Loss: tensor(0.) Train Accuracy: 1.0 Test Accuracy: 0.5714285714285714\n",
            "Epoch: 34 Train Loss: tensor(0.) Train Accuracy: 1.0 Test Accuracy: 0.6190476190476191\n",
            "Epoch: 35 Train Loss: tensor(0.) Train Accuracy: 1.0 Test Accuracy: 0.6190476190476191\n",
            "Epoch: 36 Train Loss: tensor(0.) Train Accuracy: 1.0 Test Accuracy: 0.6190476190476191\n",
            "Epoch: 37 Train Loss: tensor(0.) Train Accuracy: 1.0 Test Accuracy: 0.5714285714285714\n",
            "Epoch: 38 Train Loss: tensor(0.) Train Accuracy: 1.0 Test Accuracy: 0.6190476190476191\n",
            "Epoch: 39 Train Loss: tensor(0.) Train Accuracy: 1.0 Test Accuracy: 0.5714285714285714\n",
            "Epoch: 40 Train Loss: tensor(0.) Train Accuracy: 1.0 Test Accuracy: 0.5714285714285714\n",
            "Epoch: 41 Train Loss: tensor(0.) Train Accuracy: 1.0 Test Accuracy: 0.6190476190476191\n",
            "Epoch: 42 Train Loss: tensor(0.) Train Accuracy: 1.0 Test Accuracy: 0.6190476190476191\n",
            "Epoch: 43 Train Loss: tensor(0.) Train Accuracy: 1.0 Test Accuracy: 0.6190476190476191\n",
            "Epoch: 44 Train Loss: tensor(0.) Train Accuracy: 1.0 Test Accuracy: 0.6190476190476191\n",
            "Epoch: 45 Train Loss: tensor(0.) Train Accuracy: 1.0 Test Accuracy: 0.5714285714285714\n",
            "Epoch: 46 Train Loss: tensor(0.) Train Accuracy: 1.0 Test Accuracy: 0.6190476190476191\n",
            "Epoch: 47 Train Loss: tensor(0.) Train Accuracy: 1.0 Test Accuracy: 0.6190476190476191\n",
            "Epoch: 48 Train Loss: tensor(0.) Train Accuracy: 1.0 Test Accuracy: 0.5714285714285714\n",
            "Epoch: 49 Train Loss: tensor(0.) Train Accuracy: 1.0 Test Accuracy: 0.6190476190476191\n",
            "Epoch: 50 Train Loss: tensor(0.) Train Accuracy: 1.0 Test Accuracy: 0.5714285714285714\n",
            "Epoch: 51 Train Loss: tensor(0.) Train Accuracy: 1.0 Test Accuracy: 0.5714285714285714\n",
            "Epoch: 52 Train Loss: tensor(0.) Train Accuracy: 1.0 Test Accuracy: 0.5714285714285714\n",
            "Epoch: 53 Train Loss: tensor(0.) Train Accuracy: 1.0 Test Accuracy: 0.5714285714285714\n",
            "Epoch: 54 Train Loss: tensor(0.) Train Accuracy: 1.0 Test Accuracy: 0.5714285714285714\n",
            "Epoch: 55 Train Loss: tensor(0.) Train Accuracy: 1.0 Test Accuracy: 0.5714285714285714\n",
            "Epoch: 56 Train Loss: tensor(0.) Train Accuracy: 1.0 Test Accuracy: 0.5714285714285714\n",
            "Epoch: 57 Train Loss: tensor(0.) Train Accuracy: 1.0 Test Accuracy: 0.6190476190476191\n",
            "Epoch: 58 Train Loss: tensor(0.) Train Accuracy: 1.0 Test Accuracy: 0.5714285714285714\n",
            "Epoch: 59 Train Loss: tensor(0.) Train Accuracy: 1.0 Test Accuracy: 0.5714285714285714\n",
            "Epoch: 60 Train Loss: tensor(0.) Train Accuracy: 1.0 Test Accuracy: 0.6190476190476191\n",
            "Epoch: 61 Train Loss: tensor(0.) Train Accuracy: 1.0 Test Accuracy: 0.5714285714285714\n",
            "Epoch: 62 Train Loss: tensor(0.) Train Accuracy: 1.0 Test Accuracy: 0.6190476190476191\n",
            "Epoch: 63 Train Loss: tensor(0.) Train Accuracy: 1.0 Test Accuracy: 0.6190476190476191\n",
            "Epoch: 64 Train Loss: tensor(0.) Train Accuracy: 1.0 Test Accuracy: 0.6190476190476191\n",
            "Epoch: 65 Train Loss: tensor(0.) Train Accuracy: 1.0 Test Accuracy: 0.6190476190476191\n",
            "Epoch: 66 Train Loss: tensor(0.) Train Accuracy: 1.0 Test Accuracy: 0.5714285714285714\n",
            "Epoch: 67 Train Loss: tensor(0.) Train Accuracy: 1.0 Test Accuracy: 0.5714285714285714\n",
            "Epoch: 68 Train Loss: tensor(0.) Train Accuracy: 1.0 Test Accuracy: 0.6190476190476191\n",
            "Epoch: 69 Train Loss: tensor(0.) Train Accuracy: 1.0 Test Accuracy: 0.6190476190476191\n",
            "Epoch: 70 Train Loss: tensor(0.) Train Accuracy: 1.0 Test Accuracy: 0.5714285714285714\n",
            "Epoch: 71 Train Loss: tensor(0.) Train Accuracy: 1.0 Test Accuracy: 0.5714285714285714\n",
            "Epoch: 72 Train Loss: tensor(0.) Train Accuracy: 1.0 Test Accuracy: 0.6190476190476191\n",
            "Epoch: 73 Train Loss: tensor(0.) Train Accuracy: 1.0 Test Accuracy: 0.6190476190476191\n",
            "Epoch: 74 Train Loss: tensor(0.) Train Accuracy: 1.0 Test Accuracy: 0.6190476190476191\n",
            "Epoch: 75 Train Loss: tensor(0.) Train Accuracy: 1.0 Test Accuracy: 0.6190476190476191\n",
            "Epoch: 76 Train Loss: tensor(0.) Train Accuracy: 1.0 Test Accuracy: 0.5714285714285714\n",
            "Epoch: 77 Train Loss: tensor(0.) Train Accuracy: 1.0 Test Accuracy: 0.6190476190476191\n",
            "Epoch: 78 Train Loss: tensor(0.) Train Accuracy: 1.0 Test Accuracy: 0.6190476190476191\n",
            "Epoch: 79 Train Loss: tensor(0.) Train Accuracy: 1.0 Test Accuracy: 0.5714285714285714\n",
            "Epoch: 80 Train Loss: tensor(0.) Train Accuracy: 1.0 Test Accuracy: 0.6190476190476191\n",
            "Epoch: 81 Train Loss: tensor(0.) Train Accuracy: 1.0 Test Accuracy: 0.6190476190476191\n",
            "Epoch: 82 Train Loss: tensor(0.) Train Accuracy: 1.0 Test Accuracy: 0.6190476190476191\n",
            "Epoch: 83 Train Loss: tensor(0.) Train Accuracy: 1.0 Test Accuracy: 0.5714285714285714\n",
            "Epoch: 84 Train Loss: tensor(0.) Train Accuracy: 1.0 Test Accuracy: 0.6190476190476191\n",
            "Epoch: 85 Train Loss: tensor(0.) Train Accuracy: 1.0 Test Accuracy: 0.5714285714285714\n",
            "Epoch: 86 Train Loss: tensor(0.) Train Accuracy: 1.0 Test Accuracy: 0.5714285714285714\n",
            "Epoch: 87 Train Loss: tensor(0.) Train Accuracy: 1.0 Test Accuracy: 0.6190476190476191\n",
            "Epoch: 88 Train Loss: tensor(0.) Train Accuracy: 1.0 Test Accuracy: 0.6190476190476191\n",
            "Epoch: 89 Train Loss: tensor(0.) Train Accuracy: 1.0 Test Accuracy: 0.6190476190476191\n",
            "Epoch: 90 Train Loss: tensor(0.) Train Accuracy: 1.0 Test Accuracy: 0.5714285714285714\n",
            "Epoch: 91 Train Loss: tensor(0.) Train Accuracy: 1.0 Test Accuracy: 0.5714285714285714\n",
            "Epoch: 92 Train Loss: tensor(0.) Train Accuracy: 1.0 Test Accuracy: 0.6190476190476191\n",
            "Epoch: 93 Train Loss: tensor(0.) Train Accuracy: 1.0 Test Accuracy: 0.6190476190476191\n",
            "Epoch: 94 Train Loss: tensor(0.) Train Accuracy: 1.0 Test Accuracy: 0.6190476190476191\n",
            "Epoch: 95 Train Loss: tensor(0.) Train Accuracy: 1.0 Test Accuracy: 0.6190476190476191\n",
            "Epoch: 96 Train Loss: tensor(0.) Train Accuracy: 1.0 Test Accuracy: 0.5714285714285714\n",
            "Epoch: 97 Train Loss: tensor(0.) Train Accuracy: 1.0 Test Accuracy: 0.6190476190476191\n",
            "Epoch: 98 Train Loss: tensor(0.) Train Accuracy: 1.0 Test Accuracy: 0.6190476190476191\n",
            "Epoch: 99 Train Loss: tensor(0.) Train Accuracy: 1.0 Test Accuracy: 0.6190476190476191\n",
            "Epoch: 100 Train Loss: tensor(0.) Train Accuracy: 1.0 Test Accuracy: 0.5714285714285714\n",
            "Epoch: 101 Train Loss: tensor(0.) Train Accuracy: 1.0 Test Accuracy: 0.5714285714285714\n",
            "Epoch: 102 Train Loss: tensor(0.) Train Accuracy: 1.0 Test Accuracy: 0.6190476190476191\n",
            "Epoch: 103 Train Loss: tensor(0.) Train Accuracy: 1.0 Test Accuracy: 0.6190476190476191\n",
            "Epoch: 104 Train Loss: tensor(0.) Train Accuracy: 1.0 Test Accuracy: 0.6190476190476191\n",
            "Epoch: 105 Train Loss: tensor(0.) Train Accuracy: 1.0 Test Accuracy: 0.5714285714285714\n",
            "Epoch: 106 Train Loss: tensor(0.) Train Accuracy: 1.0 Test Accuracy: 0.5714285714285714\n",
            "Epoch: 107 Train Loss: tensor(0.) Train Accuracy: 1.0 Test Accuracy: 0.5714285714285714\n",
            "Epoch: 108 Train Loss: tensor(0.) Train Accuracy: 1.0 Test Accuracy: 0.6190476190476191\n",
            "Epoch: 109 Train Loss: tensor(0.) Train Accuracy: 1.0 Test Accuracy: 0.5714285714285714\n",
            "Epoch: 110 Train Loss: tensor(0.) Train Accuracy: 1.0 Test Accuracy: 0.5714285714285714\n",
            "Epoch: 111 Train Loss: tensor(0.) Train Accuracy: 1.0 Test Accuracy: 0.6190476190476191\n",
            "Epoch: 112 Train Loss: tensor(0.) Train Accuracy: 1.0 Test Accuracy: 0.5714285714285714\n",
            "Epoch: 113 Train Loss: tensor(0.) Train Accuracy: 1.0 Test Accuracy: 0.5714285714285714\n",
            "Epoch: 114 Train Loss: tensor(0.) Train Accuracy: 1.0 Test Accuracy: 0.6190476190476191\n",
            "Epoch: 115 Train Loss: tensor(0.) Train Accuracy: 1.0 Test Accuracy: 0.6190476190476191\n",
            "Epoch: 116 Train Loss: tensor(0.) Train Accuracy: 1.0 Test Accuracy: 0.5714285714285714\n",
            "Epoch: 117 Train Loss: tensor(0.) Train Accuracy: 1.0 Test Accuracy: 0.5714285714285714\n",
            "Epoch: 118 Train Loss: tensor(0.) Train Accuracy: 1.0 Test Accuracy: 0.6190476190476191\n",
            "Epoch: 119 Train Loss: tensor(0.) Train Accuracy: 1.0 Test Accuracy: 0.6190476190476191\n",
            "Epoch: 120 Train Loss: tensor(0.) Train Accuracy: 1.0 Test Accuracy: 0.5714285714285714\n",
            "Epoch: 121 Train Loss: tensor(0.) Train Accuracy: 1.0 Test Accuracy: 0.6190476190476191\n",
            "Epoch: 122 Train Loss: tensor(0.) Train Accuracy: 1.0 Test Accuracy: 0.6190476190476191\n",
            "Epoch: 123 Train Loss: tensor(0.) Train Accuracy: 1.0 Test Accuracy: 0.6190476190476191\n",
            "Epoch: 124 Train Loss: tensor(0.) Train Accuracy: 1.0 Test Accuracy: 0.6190476190476191\n",
            "Epoch: 125 Train Loss: tensor(0.) Train Accuracy: 1.0 Test Accuracy: 0.6190476190476191\n",
            "Epoch: 126 Train Loss: tensor(0.) Train Accuracy: 1.0 Test Accuracy: 0.5714285714285714\n",
            "Epoch: 127 Train Loss: tensor(0.) Train Accuracy: 1.0 Test Accuracy: 0.5714285714285714\n",
            "Epoch: 128 Train Loss: tensor(0.) Train Accuracy: 1.0 Test Accuracy: 0.6190476190476191\n",
            "Epoch: 129 Train Loss: tensor(0.) Train Accuracy: 1.0 Test Accuracy: 0.5714285714285714\n",
            "Epoch: 130 Train Loss: tensor(0.) Train Accuracy: 1.0 Test Accuracy: 0.6190476190476191\n",
            "Epoch: 131 Train Loss: tensor(0.) Train Accuracy: 1.0 Test Accuracy: 0.6190476190476191\n",
            "Epoch: 132 Train Loss: tensor(0.) Train Accuracy: 1.0 Test Accuracy: 0.6190476190476191\n",
            "Epoch: 133 Train Loss: tensor(0.) Train Accuracy: 1.0 Test Accuracy: 0.6190476190476191\n",
            "Epoch: 134 Train Loss: tensor(0.) Train Accuracy: 1.0 Test Accuracy: 0.5714285714285714\n",
            "Epoch: 135 Train Loss: tensor(0.) Train Accuracy: 1.0 Test Accuracy: 0.5714285714285714\n",
            "Epoch: 136 Train Loss: tensor(0.) Train Accuracy: 1.0 Test Accuracy: 0.5714285714285714\n",
            "Epoch: 137 Train Loss: tensor(0.) Train Accuracy: 1.0 Test Accuracy: 0.6190476190476191\n",
            "Epoch: 138 Train Loss: tensor(0.) Train Accuracy: 1.0 Test Accuracy: 0.6190476190476191\n",
            "Epoch: 139 Train Loss: tensor(0.) Train Accuracy: 1.0 Test Accuracy: 0.6190476190476191\n",
            "Epoch: 140 Train Loss: tensor(0.) Train Accuracy: 1.0 Test Accuracy: 0.5714285714285714\n",
            "Epoch: 141 Train Loss: tensor(0.) Train Accuracy: 1.0 Test Accuracy: 0.6190476190476191\n",
            "Epoch: 142 Train Loss: tensor(0.) Train Accuracy: 1.0 Test Accuracy: 0.5714285714285714\n"
          ]
        }
      ]
    },
    {
      "cell_type": "code",
      "source": [
        ""
      ],
      "metadata": {
        "id": "Uit9-TXFw0Ny"
      },
      "execution_count": null,
      "outputs": []
    }
  ]
}